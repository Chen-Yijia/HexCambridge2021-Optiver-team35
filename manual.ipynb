{
 "cells": [
  {
   "cell_type": "markdown",
   "metadata": {},
   "source": [
    "# Optibook Manual\n",
    "\n",
    "This notebook contains examples for **all interactions** you can do with optibook (that means inserting orders, getting your positions, etc.). You should use this notebook as a reference/documenation for the system later on when you write more extensive algorithms.\n",
    "\n",
    "First we do some setup and import the optibook client, which is used to connect to the optibook exchange. If everything is setup correctly, you should see the line \"Setup was successful.\" being printed."
   ]
  },
  {
   "cell_type": "code",
   "execution_count": 17,
   "metadata": {},
   "outputs": [
    {
     "name": "stdout",
     "output_type": "stream",
     "text": [
      "Setup was successful.\n"
     ]
    }
   ],
   "source": [
    "from optibook.synchronous_client import Exchange\n",
    "\n",
    "import logging\n",
    "logger = logging.getLogger('client')\n",
    "logger.setLevel('ERROR')\n",
    "\n",
    "print(\"Setup was successful.\")"
   ]
  },
  {
   "cell_type": "markdown",
   "metadata": {},
   "source": [
    "### Define Your Instrument\n",
    "\n",
    "An instrument is the term we use for the 'thing' that we are trading. As such, if we are trading BMW stocks, we would call those an instrument. However, BMW options would be a different instrument. \n",
    "\n",
    "This field determines which instrument we are trading. By changing it, you will insert trades for a different instrument. You can see all available instruments by looking at the dropdown menu labeled \"Instruments\" on the visualizer."
   ]
  },
  {
   "cell_type": "code",
   "execution_count": 18,
   "metadata": {},
   "outputs": [],
   "source": [
    "instrument_id = 'PHILIPS_A'"
   ]
  },
  {
   "cell_type": "markdown",
   "metadata": {},
   "source": [
    "### Connect to Exchange"
   ]
  },
  {
   "cell_type": "code",
   "execution_count": 19,
   "metadata": {},
   "outputs": [
    {
     "name": "stderr",
     "output_type": "stream",
     "text": [
      "2021-01-24 08:21:41,350 [asyncio   ] [MainThread  ] Using selector: EpollSelector\n"
     ]
    }
   ],
   "source": [
    "e = Exchange()\n",
    "a = e.connect()\n",
    "\n",
    "# you can also define host/user/pass yourself\n",
    "# when not defined, it is taken from ~/.optibook file if it exists\n",
    "# if that file does not exists, an error is thrown\n",
    "\n",
    "#e = Exchange(host='host-to-connect-to')\n",
    "#a = e.connect(username='your-username', password='your-password')\n"
   ]
  },
  {
   "cell_type": "markdown",
   "metadata": {},
   "source": [
    "## Outstanding Orders, Trades, Current Positions and PnL"
   ]
  },
  {
   "cell_type": "code",
   "execution_count": 5,
   "metadata": {},
   "outputs": [],
   "source": [
    "# Returns all currently outstanding orders\n",
    "orders = e.get_outstanding_orders(instrument_id)\n",
    "for o in orders.values():\n",
    "    print(o)"
   ]
  },
  {
   "cell_type": "code",
   "execution_count": 42,
   "metadata": {},
   "outputs": [],
   "source": [
    "# Returns all trades you have done since the last time this function was called\n",
    "trades = e.poll_new_trades(instrument_id)\n",
    "for t in trades:\n",
    "    print(f\"[TRADED {t.instrument_id}] price({t.price}), volume({t.volume}), side({t.side})\")"
   ]
  },
  {
   "cell_type": "code",
   "execution_count": 100,
   "metadata": {},
   "outputs": [
    {
     "name": "stdout",
     "output_type": "stream",
     "text": [
      "[TRADED PHILIPS_A] price(85.10000000000001), volume(1), side(bid)\n",
      "[TRADED PHILIPS_A] price(83.80000000000001), volume(1), side(ask)\n",
      "[TRADED PHILIPS_A] price(85.9), volume(1), side(ask)\n"
     ]
    }
   ],
   "source": [
    "# Returns all trades you have done since since the instantiation of the Exchange\n",
    "trades = e.get_trade_history(instrument_id)\n",
    "for t in trades:\n",
    "    print(f\"[TRADED {t.instrument_id}] price({t.price}), volume({t.volume}), side({t.side})\")"
   ]
  },
  {
   "cell_type": "code",
   "execution_count": 6,
   "metadata": {},
   "outputs": [
    {
     "name": "stdout",
     "output_type": "stream",
     "text": [
      "PHILIPS_A 0\n",
      "PHILIPS_B -255\n"
     ]
    }
   ],
   "source": [
    "# Returns all current positions\n",
    "positions = e.get_positions()\n",
    "for p in positions:\n",
    "    print(p, positions[p])"
   ]
  },
  {
   "cell_type": "code",
   "execution_count": 5,
   "metadata": {},
   "outputs": [
    {
     "name": "stdout",
     "output_type": "stream",
     "text": [
      "PHILIPS_A {'volume': 0, 'cash': -416.40000000000373}\n",
      "PHILIPS_B {'volume': -255, 'cash': 17776.99999999999}\n"
     ]
    }
   ],
   "source": [
    "# Returns all current positions with cash invested\n",
    "positions = e.get_positions_and_cash()\n",
    "for p in positions:\n",
    "    print(p, positions[p])"
   ]
  },
  {
   "cell_type": "code",
   "execution_count": 104,
   "metadata": {},
   "outputs": [
    {
     "name": "stdout",
     "output_type": "stream",
     "text": [
      "168.20000000000067\n"
     ]
    }
   ],
   "source": [
    "# Returns Current PnL based on last Traded Price\n",
    "pnl = e.get_pnl()\n",
    "print(pnl)"
   ]
  },
  {
   "cell_type": "code",
   "execution_count": 99,
   "metadata": {},
   "outputs": [
    {
     "name": "stdout",
     "output_type": "stream",
     "text": [
      "Weighted mid: 73.2\n"
     ]
    },
    {
     "ename": "KeyboardInterrupt",
     "evalue": "",
     "output_type": "error",
     "traceback": [
      "\u001b[0;31m---------------------------------------------------------------------------\u001b[0m",
      "\u001b[0;31mKeyboardInterrupt\u001b[0m                         Traceback (most recent call last)",
      "\u001b[0;32m<ipython-input-99-4fbd5df6e669>\u001b[0m in \u001b[0;36m<module>\u001b[0;34m\u001b[0m\n\u001b[1;32m     45\u001b[0m     \u001b[0;32melse\u001b[0m\u001b[0;34m:\u001b[0m\u001b[0;34m\u001b[0m\u001b[0;34m\u001b[0m\u001b[0m\n\u001b[1;32m     46\u001b[0m         \u001b[0mprint\u001b[0m\u001b[0;34m(\u001b[0m\u001b[0;34m\"Weighted mid:\"\u001b[0m\u001b[0;34m,\u001b[0m \u001b[0mweighted_mid\u001b[0m\u001b[0;34m(\u001b[0m\u001b[0;34m)\u001b[0m\u001b[0;34m)\u001b[0m\u001b[0;34m\u001b[0m\u001b[0;34m\u001b[0m\u001b[0m\n\u001b[0;32m---> 47\u001b[0;31m         \u001b[0mtime\u001b[0m\u001b[0;34m.\u001b[0m\u001b[0msleep\u001b[0m\u001b[0;34m(\u001b[0m\u001b[0;36m0.01\u001b[0m\u001b[0;34m)\u001b[0m\u001b[0;34m\u001b[0m\u001b[0;34m\u001b[0m\u001b[0m\n\u001b[0m",
      "\u001b[0;31mKeyboardInterrupt\u001b[0m: "
     ]
    }
   ],
   "source": [
    "from IPython.display import clear_output\n",
    "import time\n",
    "class order_level:\n",
    "    def __init__(self, bidorask, price, vol):\n",
    "        if bidorask == \"bid\":\n",
    "            self.bid_volume = vol\n",
    "            self.ask_volume = \"\"\n",
    "        if bidorask == \"ask\":\n",
    "            self.bid_volume = \"\"\n",
    "            self.ask_volume = vol\n",
    "            \n",
    "        self.price_level = price\n",
    "\n",
    "def weighted_mid():\n",
    "    book = e.get_last_price_book(instrument_id)\n",
    "    bidslist = []\n",
    "    asklist = []\n",
    "    bids_vol = 0\n",
    "    asks_vol = 0\n",
    "\n",
    "    try:\n",
    "        for bid in book.bids:\n",
    "            bids_vol += bid.volume\n",
    "            bid_each = order_level(\"bid\",round(bid.price,1),bid.volume)\n",
    "            bidslist.append(bid_each)\n",
    "\n",
    "        for ask in book.asks:\n",
    "            asks_vol += ask.volume\n",
    "            ask_each = order_level(\"ask\",round(ask.price,1),ask.volume)\n",
    "            asklist.append(ask_each)\n",
    "\n",
    "        bid_weight = bids_vol/(bids_vol+asks_vol)\n",
    "        ask_weight = asks_vol/(bids_vol+asks_vol)\n",
    "        weighted_mid = (bidslist[0].price_level)*bid_weight+(asklist[0].price_level)*ask_weight\n",
    "\n",
    "        return round(weighted_mid,1)\n",
    "    \n",
    "    except:\n",
    "        return \"error\"\n",
    "\n",
    "while True:\n",
    "    clear_output(wait=True)\n",
    "    if weighted_mid() == \"error\":\n",
    "        continue\n",
    "    else:   \n",
    "        print(\"Weighted mid:\", weighted_mid())\n",
    "        time.sleep(0.01)\n"
   ]
  },
  {
   "cell_type": "markdown",
   "metadata": {},
   "source": [
    "## Order Book and Public Trade Ticks"
   ]
  },
  {
   "cell_type": "code",
   "execution_count": 101,
   "metadata": {},
   "outputs": [
    {
     "name": "stdout",
     "output_type": "stream",
     "text": [
      "bids:  [[price_volume] price=73.8, volume=40, [price_volume] price=73.7, volume=200]\n",
      "-------\n",
      "asks:  [[price_volume] price=73.9, volume=50, [price_volume] price=74.3, volume=200]\n",
      "-------\n",
      "bid | price | ask\n",
      "40 | 73.8 | \n",
      "200 | 73.7 | \n",
      " | 73.9 | 50\n",
      " | 74.3 | 200\n"
     ]
    }
   ],
   "source": [
    "class order_level:\n",
    "    def __init__(self, bidorask, price, vol):\n",
    "        if bidorask == \"bid\":\n",
    "            self.bid_volume = vol\n",
    "            self.ask_volume = \"\"\n",
    "        if bidorask == \"ask\":\n",
    "            self.bid_volume = \"\"\n",
    "            self.ask_volume = vol\n",
    "        self.price_level = price\n",
    "        \n",
    "        \n",
    "book = e.get_last_price_book(instrument_id)\n",
    "processed_order_book = []\n",
    "print(\"bids: \", book.bids)\n",
    "print(\"-------\")\n",
    "for bid in book.bids:\n",
    "#     bid_dic = {round(bid.price,1):bid.volume}\n",
    "#     total['bids'].append(bid_dic)\n",
    "#     print(\"bids: \", round(bid.price, 1))\n",
    "    bid_each = order_level(\"bid\",round(bid.price,1),bid.volume)\n",
    "    processed_order_book.append(bid_each)\n",
    "    \n",
    "print(\"asks: \", book.asks)\n",
    "print(\"-------\")\n",
    "for ask in book.asks:\n",
    "#     ask_dic = {round(ask.price,1):ask.volume}\n",
    "#     total['asks'].append(ask_dic)\n",
    "#     print(\"asks:\", round(ask.price, 1))\n",
    "    ask_each = order_level(\"ask\",round(ask.price,1),ask.volume)\n",
    "    processed_order_book.append(ask_each)\n",
    "\n",
    "print(\"bid | price | ask\")\n",
    "\n",
    "for level in processed_order_book:\n",
    "  print(f\"{level.bid_volume} | {level.price_level} | {level.ask_volume}\")\n",
    "\n",
    "\n",
    "    \n"
   ]
  },
  {
   "cell_type": "code",
   "execution_count": 11,
   "metadata": {},
   "outputs": [
    {
     "name": "stdout",
     "output_type": "stream",
     "text": [
      "[PHILIPS_A] price(87.9), volume(1), aggressor_side(bid), buyer(), seller()\n",
      "[PHILIPS_A] price(88.0), volume(1), aggressor_side(bid), buyer(), seller()\n",
      "[PHILIPS_A] price(88.0), volume(29), aggressor_side(bid), buyer(), seller()\n",
      "[PHILIPS_A] price(88.2), volume(2), aggressor_side(bid), buyer(), seller()\n",
      "[PHILIPS_A] price(88.0), volume(20), aggressor_side(bid), buyer(), seller()\n",
      "[PHILIPS_A] price(87.80000000000001), volume(20), aggressor_side(bid), buyer(), seller()\n",
      "[PHILIPS_A] price(87.7), volume(40), aggressor_side(bid), buyer(), seller()\n",
      "[PHILIPS_A] price(87.7), volume(20), aggressor_side(bid), buyer(), seller()\n",
      "[PHILIPS_A] price(87.5), volume(1), aggressor_side(bid), buyer(), seller()\n",
      "[PHILIPS_A] price(87.5), volume(1), aggressor_side(bid), buyer(), seller()\n",
      "[PHILIPS_A] price(87.5), volume(1), aggressor_side(bid), buyer(), seller()\n",
      "[PHILIPS_A] price(87.5), volume(40), aggressor_side(bid), buyer(), seller()\n",
      "[PHILIPS_A] price(87.30000000000001), volume(20), aggressor_side(bid), buyer(), seller()\n",
      "[PHILIPS_A] price(87.2), volume(1), aggressor_side(ask), buyer(), seller()\n",
      "[PHILIPS_A] price(87.2), volume(1), aggressor_side(ask), buyer(), seller()\n",
      "[PHILIPS_A] price(87.2), volume(1), aggressor_side(ask), buyer(), seller()\n",
      "[PHILIPS_A] price(87.2), volume(60), aggressor_side(bid), buyer(), seller()\n",
      "[PHILIPS_A] price(87.0), volume(20), aggressor_side(bid), buyer(), seller()\n",
      "[PHILIPS_A] price(86.60000000000001), volume(4), aggressor_side(ask), buyer(), seller()\n",
      "[PHILIPS_A] price(87.2), volume(1), aggressor_side(bid), buyer(), seller()\n",
      "[PHILIPS_A] price(87.10000000000001), volume(60), aggressor_side(bid), buyer(), seller()\n",
      "[PHILIPS_A] price(86.80000000000001), volume(60), aggressor_side(bid), buyer(), seller()\n",
      "[PHILIPS_A] price(86.80000000000001), volume(20), aggressor_side(bid), buyer(), seller()\n",
      "[PHILIPS_A] price(86.60000000000001), volume(1), aggressor_side(ask), buyer(), seller()\n",
      "24\n"
     ]
    }
   ],
   "source": [
    "# Returns all public tradeticks since the last time this function was called\n",
    "tradeticks = e.poll_new_trade_ticks(instrument_id)\n",
    "for t in tradeticks:\n",
    "    print(f\"[{t.instrument_id}] price({t.price}), volume({t.volume}), aggressor_side({t.aggressor_side}), buyer({t.buyer}), seller({t.seller})\")\n",
    "print(len())    "
   ]
  },
  {
   "cell_type": "code",
   "execution_count": 10,
   "metadata": {},
   "outputs": [
    {
     "name": "stdout",
     "output_type": "stream",
     "text": [
      "<optibook.common_types.TradeTick object at 0x7fd738320dd8>\n",
      "<optibook.common_types.TradeTick object at 0x7fd73832aa20>\n",
      "<optibook.common_types.TradeTick object at 0x7fd738322b00>\n",
      "<optibook.common_types.TradeTick object at 0x7fd738322cc0>\n",
      "<optibook.common_types.TradeTick object at 0x7fd738322358>\n",
      "<optibook.common_types.TradeTick object at 0x7fd73832aac8>\n",
      "<optibook.common_types.TradeTick object at 0x7fd73832ae48>\n",
      "<optibook.common_types.TradeTick object at 0x7fd7383260f0>\n",
      "<optibook.common_types.TradeTick object at 0x7fd738322470>\n",
      "<optibook.common_types.TradeTick object at 0x7fd74228c8d0>\n",
      "<optibook.common_types.TradeTick object at 0x7fd738326278>\n",
      "<optibook.common_types.TradeTick object at 0x7fd7397a4940>\n",
      "<optibook.common_types.TradeTick object at 0x7fd738322400>\n",
      "<optibook.common_types.TradeTick object at 0x7fd738320cc0>\n",
      "<optibook.common_types.TradeTick object at 0x7fd738322ba8>\n",
      "<optibook.common_types.TradeTick object at 0x7fd7397a46a0>\n",
      "<optibook.common_types.TradeTick object at 0x7fd738320d30>\n",
      "<optibook.common_types.TradeTick object at 0x7fd7397a4b38>\n",
      "<optibook.common_types.TradeTick object at 0x7fd7407058d0>\n",
      "<optibook.common_types.TradeTick object at 0x7fd7406fc780>\n",
      "<optibook.common_types.TradeTick object at 0x7fd7406fc7f0>\n",
      "<optibook.common_types.TradeTick object at 0x7fd7397b5be0>\n",
      "<optibook.common_types.TradeTick object at 0x7fd742b7f438>\n",
      "<optibook.common_types.TradeTick object at 0x7fd738326128>\n",
      "<optibook.common_types.TradeTick object at 0x7fd7397b5d30>\n",
      "<optibook.common_types.TradeTick object at 0x7fd7397a4a90>\n",
      "<optibook.common_types.TradeTick object at 0x7fd738322278>\n",
      "<optibook.common_types.TradeTick object at 0x7fd739794320>\n",
      "<optibook.common_types.TradeTick object at 0x7fd738322588>\n",
      "<optibook.common_types.TradeTick object at 0x7fd7406fcda0>\n",
      "<optibook.common_types.TradeTick object at 0x7fd738322cf8>\n",
      "<optibook.common_types.TradeTick object at 0x7fd738326a90>\n",
      "<optibook.common_types.TradeTick object at 0x7fd740714da0>\n",
      "<optibook.common_types.TradeTick object at 0x7fd7397a4d68>\n",
      "<optibook.common_types.TradeTick object at 0x7fd7397a4a58>\n",
      "<optibook.common_types.TradeTick object at 0x7fd7397b5358>\n",
      "<optibook.common_types.TradeTick object at 0x7fd738326898>\n",
      "<optibook.common_types.TradeTick object at 0x7fd738320c50>\n",
      "<optibook.common_types.TradeTick object at 0x7fd7397a4f28>\n",
      "<optibook.common_types.TradeTick object at 0x7fd7397b5160>\n",
      "<optibook.common_types.TradeTick object at 0x7fd7383229b0>\n",
      "<optibook.common_types.TradeTick object at 0x7fd738322ef0>\n",
      "<optibook.common_types.TradeTick object at 0x7fd738322dd8>\n",
      "<optibook.common_types.TradeTick object at 0x7fd738331240>\n",
      "<optibook.common_types.TradeTick object at 0x7fd7397b54a8>\n",
      "<optibook.common_types.TradeTick object at 0x7fd7397b5748>\n",
      "<optibook.common_types.TradeTick object at 0x7fd738326780>\n",
      "<optibook.common_types.TradeTick object at 0x7fd738326d68>\n",
      "<optibook.common_types.TradeTick object at 0x7fd7383315f8>\n",
      "<optibook.common_types.TradeTick object at 0x7fd7397b56a0>\n",
      "<optibook.common_types.TradeTick object at 0x7fd738326dd8>\n",
      "<optibook.common_types.TradeTick object at 0x7fd7383312b0>\n",
      "<optibook.common_types.TradeTick object at 0x7fd738331518>\n",
      "<optibook.common_types.TradeTick object at 0x7fd7397b56d8>\n",
      "<optibook.common_types.TradeTick object at 0x7fd738331710>\n",
      "<optibook.common_types.TradeTick object at 0x7fd7383266a0>\n",
      "<optibook.common_types.TradeTick object at 0x7fd738326f98>\n",
      "<optibook.common_types.TradeTick object at 0x7fd738331160>\n",
      "<optibook.common_types.TradeTick object at 0x7fd738326c88>\n",
      "<optibook.common_types.TradeTick object at 0x7fd7397b59e8>\n",
      "<optibook.common_types.TradeTick object at 0x7fd738326e80>\n",
      "<optibook.common_types.TradeTick object at 0x7fd738331080>\n",
      "<optibook.common_types.TradeTick object at 0x7fd7397b51d0>\n",
      "<optibook.common_types.TradeTick object at 0x7fd738331f28>\n",
      "<optibook.common_types.TradeTick object at 0x7fd738331898>\n",
      "<optibook.common_types.TradeTick object at 0x7fd738331780>\n",
      "<optibook.common_types.TradeTick object at 0x7fd7406fcef0>\n",
      "<optibook.common_types.TradeTick object at 0x7fd7406fc198>\n",
      "<optibook.common_types.TradeTick object at 0x7fd738326b70>\n",
      "<optibook.common_types.TradeTick object at 0x7fd738331d68>\n",
      "<optibook.common_types.TradeTick object at 0x7fd738331da0>\n",
      "<optibook.common_types.TradeTick object at 0x7fd738331f60>\n",
      "<optibook.common_types.TradeTick object at 0x7fd7397b5dd8>\n",
      "<optibook.common_types.TradeTick object at 0x7fd7397b5518>\n",
      "<optibook.common_types.TradeTick object at 0x7fd738331b00>\n",
      "<optibook.common_types.TradeTick object at 0x7fd7397b5390>\n",
      "<optibook.common_types.TradeTick object at 0x7fd738331358>\n",
      "<optibook.common_types.TradeTick object at 0x7fd738331cc0>\n",
      "<optibook.common_types.TradeTick object at 0x7fd73832a470>\n",
      "<optibook.common_types.TradeTick object at 0x7fd74228c940>\n",
      "<optibook.common_types.TradeTick object at 0x7fd73832aef0>\n",
      "<optibook.common_types.TradeTick object at 0x7fd73832a588>\n",
      "<optibook.common_types.TradeTick object at 0x7fd73832aba8>\n",
      "<optibook.common_types.TradeTick object at 0x7fd73832ad68>\n",
      "<optibook.common_types.TradeTick object at 0x7fd7397a4cc0>\n",
      "<optibook.common_types.TradeTick object at 0x7fd7397a4b70>\n",
      "<optibook.common_types.TradeTick object at 0x7fd73832a048>\n",
      "<optibook.common_types.TradeTick object at 0x7fd7406d01d0>\n",
      "<optibook.common_types.TradeTick object at 0x7fd73832ae80>\n",
      "<optibook.common_types.TradeTick object at 0x7fd7397b5d68>\n",
      "<optibook.common_types.TradeTick object at 0x7fd7397b5400>\n",
      "<optibook.common_types.TradeTick object at 0x7fd738320828>\n",
      "<optibook.common_types.TradeTick object at 0x7fd739794710>\n",
      "<optibook.common_types.TradeTick object at 0x7fd7383220f0>\n",
      "<optibook.common_types.TradeTick object at 0x7fd738322160>\n",
      "<optibook.common_types.TradeTick object at 0x7fd7383206d8>\n",
      "<optibook.common_types.TradeTick object at 0x7fd738320a90>\n",
      "<optibook.common_types.TradeTick object at 0x7fd7397a46d8>\n",
      "<optibook.common_types.TradeTick object at 0x7fd738322828>\n",
      "<optibook.common_types.TradeTick object at 0x7fd73832a240>\n",
      "100\n"
     ]
    }
   ],
   "source": [
    "# Returns all public tradeticks since the instantiation of the Exchange\n",
    "tradeticks = e.get_trade_tick_history(instrument_id)\n",
    "for t in tradeticks:\n",
    "    print(t)\n",
    "print(len(tradeticks)) "
   ]
  },
  {
   "cell_type": "code",
   "execution_count": null,
   "metadata": {},
   "outputs": [],
   "source": [
    "# See all your outstanding orders\n",
    "outstanding = e.get_outstanding_orders(instrument_id)\n",
    "for o in outstanding.values():\n",
    "    print(f\"Outstanding order: order_id({o.order_id}), instrument_id({o.instrument_id}), price({o.price}), volume({o.volume}), side({o.side})\")"
   ]
  },
  {
   "cell_type": "markdown",
   "metadata": {},
   "source": [
    "## Inserting and Deleting Orders"
   ]
  },
  {
   "cell_type": "code",
   "execution_count": 102,
   "metadata": {},
   "outputs": [
    {
     "name": "stdout",
     "output_type": "stream",
     "text": [
      "Order Id: 600048\n"
     ]
    }
   ],
   "source": [
    "# Insert bid limit order - This trades against any current orders, and any remainders become new resting orders in the book\n",
    "# Use this to buy.\n",
    "result = e.insert_order(instrument_id, price=74.5, volume=1, side='bid', order_type='limit')\n",
    "print(f\"Order Id: {result}\")"
   ]
  },
  {
   "cell_type": "code",
   "execution_count": 56,
   "metadata": {},
   "outputs": [
    {
     "name": "stdout",
     "output_type": "stream",
     "text": [
      "Order Id: 548510\n"
     ]
    }
   ],
   "source": [
    "# Insert ask limit order - This trades against any current orders, and any remainders become new resting orders in the book\n",
    "# Use this to sell.\n",
    "result = e.insert_order(instrument_id, price=83, volume=1, side='ask', order_type='limit')\n",
    "print(f\"Order Id: {result}\")"
   ]
  },
  {
   "cell_type": "code",
   "execution_count": null,
   "metadata": {},
   "outputs": [],
   "source": [
    "# Insert bid IOC - This can trade against any resting volume but does not remain in the book\n",
    "# Use this to buy.\n",
    "result = e.insert_order(instrument_id, price=445.0, volume=1, side='bid', order_type='ioc')\n",
    "print(f\"Order Id: {result}\")"
   ]
  },
  {
   "cell_type": "code",
   "execution_count": null,
   "metadata": {},
   "outputs": [],
   "source": [
    "# Insert ask IOC - This can trade against any resting volume but does not remain in the book\n",
    "# Use this to sell.\n",
    "result = e.insert_order(instrument_id, price=430.0, volume=1, side='ask', order_type='ioc')\n",
    "print(f\"Order Id: {result}\")"
   ]
  },
  {
   "cell_type": "code",
   "execution_count": null,
   "metadata": {},
   "outputs": [],
   "source": [
    "# Attempt to delete inserted order by order_id\n",
    "order_id = 4\n",
    "result = e.delete_order(instrument_id, order_id=order_id)\n",
    "print()\n",
    "print(f\"Deleted order id {order_id}: {result}\")"
   ]
  },
  {
   "cell_type": "code",
   "execution_count": null,
   "metadata": {},
   "outputs": [],
   "source": [
    "# Change volume for existing order\n",
    "order_id = 5\n",
    "new_volume = 16\n",
    "result = e.amend_order(instrument_id, order_id=order_id, volume=new_volume)\n",
    "print(f\"Changed volume for order id {order_id} to {new_volume} lots: {result}\")"
   ]
  },
  {
   "cell_type": "code",
   "execution_count": null,
   "metadata": {},
   "outputs": [],
   "source": [
    "# Delete all outstanding orders\n",
    "outstanding = e.get_outstanding_orders(instrument_id)\n",
    "for o in outstanding.values():\n",
    "    result = e.delete_order(instrument_id, order_id=o.order_id)\n",
    "    print(f\"Deleted order id {o.order_id}: {result}\")"
   ]
  },
  {
   "cell_type": "markdown",
   "metadata": {},
   "source": [
    "## 'Hack' Out of Positions"
   ]
  },
  {
   "cell_type": "code",
   "execution_count": 26,
   "metadata": {},
   "outputs": [
    {
     "name": "stdout",
     "output_type": "stream",
     "text": [
      "{'PHILIPS_A': 0, 'PHILIPS_B': -39}\n",
      "{'PHILIPS_A': 0, 'PHILIPS_B': 0}\n"
     ]
    },
    {
     "name": "stderr",
     "output_type": "stream",
     "text": [
      "2021-01-24 08:42:47,158 [client    ] [Thread-6    ] Forcing a disconnect due to an error: Closing connection because someone else logged in with the same credentials. Only one session may be active at the same time.\n"
     ]
    }
   ],
   "source": [
    "# Get out of all positions you are currently holding, regarless of the loss involved. That means selling whatever\n",
    "# you are long, and buying-back whatever you are short. Be sure you know what you are doing when you use this logic.\n",
    "print(e.get_positions())\n",
    "for s, p in e.get_positions().items():\n",
    "    if p > 0:\n",
    "        e.insert_order(s, price=1, volume=p, side='ask', order_type='ioc')\n",
    "    elif p < 0:\n",
    "        e.insert_order(s, price=10000, volume=-p, side='bid', order_type='ioc')  \n",
    "print(e.get_positions())"
   ]
  },
  {
   "cell_type": "code",
   "execution_count": null,
   "metadata": {},
   "outputs": [],
   "source": []
  },
  {
   "cell_type": "code",
   "execution_count": null,
   "metadata": {},
   "outputs": [],
   "source": []
  }
 ],
 "metadata": {
  "kernelspec": {
   "display_name": "Python 3",
   "language": "python",
   "name": "python3"
  },
  "language_info": {
   "codemirror_mode": {
    "name": "ipython",
    "version": 3
   },
   "file_extension": ".py",
   "mimetype": "text/x-python",
   "name": "python",
   "nbconvert_exporter": "python",
   "pygments_lexer": "ipython3",
   "version": "3.6.12"
  }
 },
 "nbformat": 4,
 "nbformat_minor": 4
}
